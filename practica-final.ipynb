{
 "cells": [
  {
   "cell_type": "code",
   "execution_count": 1,
   "metadata": {},
   "outputs": [],
   "source": [
    "import geopandas as gpd\n",
    "import geoplot as gplt\n",
    "import pandas as pd\n",
    "import numpy as np\n",
    "import matplotlib.pyplot as plt\n",
    "import fiona\n",
    "%matplotlib inline\n",
    "# Importamos para escala de color de porcentaje\n",
    "from matplotlib import cm\n",
    "from matplotlib import colors"
   ]
  },
  {
   "cell_type": "markdown",
   "metadata": {},
   "source": [
    "# Importamos el archivo y arreglamos los datos para analizarlos."
   ]
  },
  {
   "cell_type": "code",
   "execution_count": 13,
   "metadata": {},
   "outputs": [],
   "source": [
    "# importamos el archivo.csv\n",
    "cn = pd.read_csv(\"ConectividadalserviciodeInternet_2638001589899846118.csv\", delimiter = \",\")"
   ]
  },
  {
   "cell_type": "code",
   "execution_count": 14,
   "metadata": {},
   "outputs": [
    {
     "data": {
      "text/plain": [
       "Index(['Provincia', 'Partido', 'Localidad', 'Población', 'ADSL', 'Cablemódem',\n",
       "       'Dial Up', 'Fibra óptica', 'Satelital', 'Wireless', 'Telefonía Fija',\n",
       "       '3G', '4G', 'Latitud', 'Longitud', 'Unnamed: 15', 'Unnamed: 16',\n",
       "       'Unnamed: 17', 'Unnamed: 18', 'Unnamed: 19'],\n",
       "      dtype='object')"
      ]
     },
     "execution_count": 14,
     "metadata": {},
     "output_type": "execute_result"
    }
   ],
   "source": [
    "# Analizamos las columnas para conocerlas con sus nombres\n",
    "cn.columns"
   ]
  },
  {
   "cell_type": "code",
   "execution_count": 4,
   "metadata": {},
   "outputs": [],
   "source": [
    "# Eliminamos las columna (axis=1) (para filas (axis=0)) que no sirven para nuestro análisis\n",
    "#con la condición que imponemos pw.drop('identificador', axis=1, inplace=True)\n",
    "cn.drop('Partido', axis=1, inplace=True)\n",
    "cn.drop('Población', axis=1, inplace=True)\n",
    "cn.drop('Unnamed: 15', axis=1, inplace=True)\n",
    "cn.drop('Unnamed: 16', axis=1, inplace=True)\n",
    "cn.drop('Unnamed: 17', axis=1, inplace=True)\n",
    "cn.drop('Unnamed: 18', axis=1, inplace=True)\n",
    "cn.drop('Unnamed: 19', axis=1, inplace=True)"
   ]
  },
  {
   "cell_type": "code",
   "execution_count": 5,
   "metadata": {},
   "outputs": [],
   "source": [
    "# Reemplazamos los string por números para contarlos como int().\n",
    "\n",
    "### Columna ADSL ###\n",
    "cn['ADSL'] = cn['ADSL'].replace('SI', '1')\n",
    "cn['ADSL'] = cn['ADSL'].replace('--', '0')\n",
    "# Cambianos de tipos de datos de la columna a str y convertimos a dictionary para sumar.\n",
    "ADSL = dict(cn['ADSL'].astype(str).value_counts())\n",
    "#print(ADSL)\n",
    "\n",
    "### Columna Cablemódem ###\n",
    "# Como el nombre de la columna Cablemódem puede presentar problemas, lo renombramos como Cablemodem.\n",
    "cn.rename(columns={'Cablemódem': 'Cablemodem'}, inplace=True)\n",
    "# Reemplazo los string por números para contarlos como int().\n",
    "cn['Cablemodem'] = cn['Cablemodem'].replace('SI', '1')\n",
    "cn['Cablemodem'] = cn['Cablemodem'].replace('--', '0')\n",
    "# Cambianos de tipos de datos de la columna a str y convertimos a dictionary para sumar.\n",
    "Cablemodem = dict(cn['Cablemodem'].astype(str).value_counts())\n",
    "\n",
    "### Columna Dial Up ###\n",
    "# Como el nombre de la columna Dial Up presenta problemas, la renombramos como Dialup.\n",
    "cn.rename(columns={'Dial Up': 'Dialup'}, inplace=True)\n",
    "# Reemplazo los string por números para contarlos como int().\n",
    "cn['Dialup'] = cn['Dialup'].replace('SI', '1')\n",
    "cn['Dialup'] = cn['Dialup'].replace('--', '0')\n",
    "# Cambianos de tipos de datos de la columna a str y convertimos a dictionary para sumar.\n",
    "Dialup = dict(cn['Dialup'].astype(str).value_counts())\n",
    "\n",
    "### Columna Fibra óptica ###\n",
    "# Como el nombre de la columna Fibra óptica presenta problemas, la renombramos como Fibraoptica.\n",
    "cn.rename(columns={'Fibra óptica': 'Fibraoptica'}, inplace=True)\n",
    "# Reemplazo los string por números para contarlos como int().\n",
    "cn['Fibraoptica'] = cn['Fibraoptica'].replace('SI', '1')\n",
    "cn['Fibraoptica'] = cn['Fibraoptica'].replace('--', '0')\n",
    "# Cambianos de tipos de datos de la columna a str y convertimos a dictionary para sumar.\n",
    "Fibraoptica = dict(cn['Fibraoptica'].astype(str).value_counts())\n",
    "\n",
    "### Columna Satelital ###\n",
    "# Reemplazo los string por números para contarlos como int().\n",
    "cn['Satelital'] = cn['Satelital'].replace('SI', '1')\n",
    "cn['Satelital'] = cn['Satelital'].replace('--', '0')\n",
    "# Cambianos de tipos de datos de la columna a str y convertimos a dictionary para sumar.\n",
    "Satelital = dict(cn['Satelital'].astype(str).value_counts())\n",
    "\n",
    "### Columna Wireless ###\n",
    "# Reemplazo los string por números para contarlos como int().\n",
    "cn['Wireless'] = cn['Wireless'].replace('SI', '1')\n",
    "cn['Wireless'] = cn['Wireless'].replace('--', '0')\n",
    "# Cambianos de tipos de datos de la columna a str y convertimos a dictionary para sumar.\n",
    "Wireless = dict(cn['Wireless'].astype(str).value_counts())\n",
    "\n",
    "### Columna Telefonía Fija ###\n",
    "# Como el nombre de la columna Fibra óptica presenta problemas, la renombramos como Fibraoptica.\n",
    "cn.rename(columns={'Telefonía Fija': 'Telefoniafija'}, inplace=True)\n",
    "# Reemplazo los string por números para contarlos como int().\n",
    "cn['Telefoniafija'] = cn['Telefoniafija'].replace('SI', '1')\n",
    "cn['Telefoniafija'] = cn['Telefoniafija'].replace('--', '0')\n",
    "# Cambianos de tipos de datos de la columna a str y convertimos a dictionary para sumar.\n",
    "Telefoniafija = dict(cn['Telefoniafija'].astype(str).value_counts())\n",
    "\n",
    "### Columna 3G ###\n",
    "# Como el nombre de la columna 3G presenta problemas, la renombramos como Tresg.\n",
    "cn.rename(columns={'3G': 'Tresg'}, inplace=True)\n",
    "# Reemplazo los string por números para contarlos como int().\n",
    "cn['Tresg'] = cn['Tresg'].replace('SI', '1')\n",
    "cn['Tresg'] = cn['Tresg'].replace('--', '0')\n",
    "# Cambianos de tipos de datos de la columna a str y convertimos a dictionary para sumar.\n",
    "Tresg = dict(cn['Tresg'].astype(str).value_counts())\n",
    "\n",
    "### Columna 4G ###\n",
    "# Como el nombre de la columna 4G presenta problemas, la renombramos como Cuatrog.\n",
    "cn.rename(columns={'4G': 'Cuatrog'}, inplace=True)\n",
    "# Reemplazo los string por números para contarlos como int().\n",
    "cn['Cuatrog'] = cn['Cuatrog'].replace('SI', '1')\n",
    "cn['Cuatrog'] = cn['Cuatrog'].replace('--', '0')\n",
    "# Cambianos de tipos de datos de la columna a str y convertimos a dictionary para sumar.\n",
    "Cuatrog = dict(cn['Cuatrog'].astype(str).value_counts())"
   ]
  },
  {
   "cell_type": "markdown",
   "metadata": {},
   "source": [
    "   # Porcentual de cada tipo de acceso de internet respecto del total de las conexiones del  país por cada municipio"
   ]
  },
  {
   "cell_type": "code",
   "execution_count": 6,
   "metadata": {},
   "outputs": [
    {
     "name": "stdout",
     "output_type": "stream",
     "text": [
      "La conexión ADSL representa un 9.2% del total.\n",
      "La conexión Cablemodem representa un 5.72% del total.\n",
      "La conexión Dial up representa un 3.81% del total.\n",
      "La conexión Fibra óptica representa un 6.17% del total.\n",
      "La conexión Satelital representa un 9.56% del total.\n",
      "La conexión Wireless representa un 10.58% del total.\n",
      "La conexión Telefonía fija representa un 18.67% del total.\n",
      "La conexión 3G representa un 18.45% del total.\n",
      "La conexión 4G representa un 17.85% del total.\n"
     ]
    },
    {
     "data": {
      "image/png": "[encoded data removed]",
      "text/plain": [
       "<Figure size 576x576 with 1 Axes>"
      ]
     },
     "metadata": {},
     "output_type": "display_data"
    }
   ],
   "source": [
    "# Calculamos cada representación porcentual respecto a la conexión total del pais \n",
    "cnpais = ADSL['1'] + Cablemodem['1'] + Dialup['1'] + Fibraoptica['1'] + Satelital['1'] + Wireless['1'] + Telefoniafija['1'] + Tresg['1'] + Cuatrog['1']\n",
    "print(\"La conexión ADSL representa un \"+ str(round((ADSL['1']/cnpais)*100,2)) +\"%\" + \" del total.\")\n",
    "print(\"La conexión Cablemodem representa un \"+ str(round((Cablemodem['1']/cnpais)*100,2)) +\"%\" + \" del total.\")\n",
    "print(\"La conexión Dial up representa un \"+ str(round((Dialup['1']/cnpais)*100,2)) +\"%\" + \" del total.\")\n",
    "print(\"La conexión Fibra óptica representa un \"+ str(round((Fibraoptica['1']/cnpais)*100,2)) +\"%\" + \" del total.\")\n",
    "print(\"La conexión Satelital representa un \"+ str(round((Satelital['1']/cnpais)*100,2)) +\"%\" + \" del total.\")\n",
    "print(\"La conexión Wireless representa un \"+ str(round((Wireless['1']/cnpais)*100,2)) +\"%\" + \" del total.\")\n",
    "print(\"La conexión Telefonía fija representa un \"+ str(round((Telefoniafija['1']/cnpais)*100,2)) +\"%\" + \" del total.\")\n",
    "print(\"La conexión 3G representa un \"+ str(round((Tresg['1']/cnpais)*100,2)) +\"%\" + \" del total.\")\n",
    "print(\"La conexión 4G representa un \"+ str(round((Cuatrog['1']/cnpais)*100,2)) +\"%\" + \" del total.\")\n",
    "\n",
    "# Los porcentuales y los nombres/etiquetes debemos convertirlos en listas\n",
    "porcentaje = [9.2, 5.72, 3.81, 6.17, 9.56, 10.58, 18.67, 18.45, 17.85]\n",
    "nombres = ['ADSL', 'Cable Modem', 'Dial up', 'Fibra óptica', 'Satelital', 'Wireless', 'Telefonía fija', '3G', '4G']\n",
    "#Regulamos el tamaño\n",
    "plt.figure(figsize=(8,8))\n",
    "# Desfasamos una tajada, las importante.\n",
    "desfase = (0, 0, 0, 0, 0, 0, 0.2, 0.1, 0)\n",
    "# colocamos porcentaje y nombres en plt.pie()\n",
    "plt.pie(porcentaje, labels=nombres, autopct=\"%0.1f %%\", explode=desfase)\n",
    "plt.axis(\"equal\")\n",
    "plt.show()"
   ]
  },
  {
   "cell_type": "markdown",
   "metadata": {},
   "source": [
    "# Comparación entre tipos de tecnología de acceso a internet del total país"
   ]
  },
  {
   "cell_type": "code",
   "execution_count": 7,
   "metadata": {},
   "outputs": [
    {
     "data": {
      "image/png": "[encoded data removed]",
      "text/plain": [
       "<Figure size 504x432 with 1 Axes>"
      ]
     },
     "metadata": {
      "needs_background": "light"
     },
     "output_type": "display_data"
    }
   ],
   "source": [
    "#Configuramos las etiquetas/usamos espacios entre dos palabras para ubicar debajo de cada barra.\n",
    "etiquetas_x = ['3G 4G', 'ADSL Dialup', ' Tfija CableM', ' Wifi Sat', 'FiOp Dialup']\n",
    "# Seteamos los valores opuestos de cada etiqueta, unos arriba, otros abajo, de las barras\n",
    "valores_1 = [18.4, 9.2, 18.7, 10.6, 6.2] \n",
    "valores_2 = [17.8, 6.2, 5.7, 9.6, 3.8]\n",
    "# ubicamos el lugar con len de las etiquetas\n",
    "x = np.arange(len(etiquetas_x))  # the label locations\n",
    "width = 0.4  # Ancho de cada barra/the width of the bars\n",
    "\n",
    "# En figsize modificamos el temaño del grafico\n",
    "fig, ax = plt.subplots(figsize=(7,6))\n",
    "\n",
    "# Completamos configuración de subgráfico con los datos de guía\n",
    "rects1 = ax.bar(x - width/2, valores_1, width, label='Mayor %')\n",
    "rects2 = ax.bar(x + width/2, valores_2, width, label='Menor %')\n",
    "#Colocamos etiquetas en cada posicion \n",
    "ax.set_ylabel('Porcentuales por cada acceso a internet')\n",
    "ax.set_title('Comparación entre tecnologías de acceso a internet del total país')\n",
    "ax.set_xticks(x)\n",
    "ax.set_xticklabels(etiquetas_x)\n",
    "#Añadimos un legen() esto permite mmostrar con colores a que pertence cada valor.\n",
    "ax.legend()\n",
    "\n",
    "#Colocamos el dato porcentual en cada barra con esta función\n",
    "def autolabel(rects):\n",
    "    \"\"\"Attach a text label above each bar in *rects*, displaying its height.\"\"\"\n",
    "    for rect in rects:\n",
    "        height = rect.get_height()\n",
    "        ax.annotate('{}'.format(height),\n",
    "                    xy=(rect.get_x() + rect.get_width() / 2, height),\n",
    "                    xytext=(0, 0),  # Regulamos la distancia/3 points vertical offset\n",
    "                    textcoords=\"offset points\",\n",
    "                    ha='center', va='bottom')\n",
    "\n",
    "# Llamamos a las funciones        \n",
    "autolabel(rects1)\n",
    "autolabel(rects2)\n",
    "\n",
    "# Guardamos la grafica\n",
    "plt.savefig('barras_horizontal.png')\n",
    "plt.show()"
   ]
  },
  {
   "cell_type": "code",
   "execution_count": 15,
   "metadata": {},
   "outputs": [
    {
     "data": {
      "text/plain": [
       "Index(['Provincia', 'Partido', 'Localidad', 'Población', 'ADSL', 'Cablemódem',\n",
       "       'Dial Up', 'Fibra óptica', 'Satelital', 'Wireless', 'Telefonía Fija',\n",
       "       '3G', '4G', 'Latitud', 'Longitud', 'Unnamed: 15', 'Unnamed: 16',\n",
       "       'Unnamed: 17', 'Unnamed: 18', 'Unnamed: 19'],\n",
       "      dtype='object')"
      ]
     },
     "execution_count": 15,
     "metadata": {},
     "output_type": "execute_result"
    }
   ],
   "source": [
    "cn.reset_index(drop=False)\n",
    "# importamos el archivo.csv\n",
    "#cn = pd.read_csv(\"ConectividadalserviciodeInternet_2638001589899846118.csv\", delimiter = \",\")\n",
    "# Analizamos las columnas para conocerlas con sus nombres\n",
    "cn.columns"
   ]
  },
  {
   "cell_type": "code",
   "execution_count": 16,
   "metadata": {},
   "outputs": [
    {
     "data": {
      "text/plain": [
       "Index(['Localidad', 'Fibra óptica', '4G', 'Latitud', 'Longitud'], dtype='object')"
      ]
     },
     "execution_count": 16,
     "metadata": {},
     "output_type": "execute_result"
    }
   ],
   "source": [
    "# Eliminamos las columna (axis=1) (para filas (axis=0)) que no sirven para nuestro análisis\n",
    "#con la condición que imponemos pw.drop('identificador', axis=1, inplace=True)\n",
    "cn.drop('Provincia', axis=1, inplace=True)\n",
    "cn.drop('Partido', axis=1, inplace=True)\n",
    "cn.drop('Población', axis=1, inplace=True)\n",
    "cn.drop('ADSL', axis=1, inplace=True)\n",
    "cn.drop('Dial Up', axis=1, inplace=True)\n",
    "cn.drop('Cablemódem', axis=1, inplace=True)\n",
    "cn.drop('Satelital', axis=1, inplace=True)\n",
    "cn.drop('Wireless', axis=1, inplace=True)\n",
    "cn.drop('Telefonía Fija', axis=1, inplace=True)\n",
    "cn.drop('3G', axis=1, inplace=True)\n",
    "#cn.drop('Latitud', axis=1, inplace=True)\n",
    "#cn.drop('Longitud', axis=1, inplace=True)\n",
    "cn.drop('Unnamed: 15', axis=1, inplace=True)\n",
    "cn.drop('Unnamed: 16', axis=1, inplace=True)\n",
    "cn.drop('Unnamed: 17', axis=1, inplace=True)\n",
    "cn.drop('Unnamed: 18', axis=1, inplace=True)\n",
    "cn.drop('Unnamed: 19', axis=1, inplace=True)\n",
    "cn.columns"
   ]
  },
  {
   "cell_type": "code",
   "execution_count": 17,
   "metadata": {},
   "outputs": [
    {
     "data": {
      "text/html": [
       "<div>\n",
       "<style scoped>\n",
       "    .dataframe tbody tr th:only-of-type {\n",
       "        vertical-align: middle;\n",
       "    }\n",
       "\n",
       "    .dataframe tbody tr th {\n",
       "        vertical-align: top;\n",
       "    }\n",
       "\n",
       "    .dataframe thead th {\n",
       "        text-align: right;\n",
       "    }\n",
       "</style>\n",
       "<table border=\"1\" class=\"dataframe\">\n",
       "  <thead>\n",
       "    <tr style=\"text-align: right;\">\n",
       "      <th></th>\n",
       "      <th>Localidad</th>\n",
       "      <th>Fibraoptica</th>\n",
       "      <th>Cuatrog</th>\n",
       "      <th>Latitud</th>\n",
       "      <th>Longitud</th>\n",
       "    </tr>\n",
       "  </thead>\n",
       "  <tbody>\n",
       "    <tr>\n",
       "      <th>0</th>\n",
       "      <td>25 de Mayo</td>\n",
       "      <td>1</td>\n",
       "      <td>1</td>\n",
       "      <td>-35.433939</td>\n",
       "      <td>-60.173121</td>\n",
       "    </tr>\n",
       "    <tr>\n",
       "      <th>1</th>\n",
       "      <td>Agustín Mosconi</td>\n",
       "      <td>0</td>\n",
       "      <td>0</td>\n",
       "      <td>-35.739217</td>\n",
       "      <td>-60.559063</td>\n",
       "    </tr>\n",
       "    <tr>\n",
       "      <th>2</th>\n",
       "      <td>Del Valle</td>\n",
       "      <td>1</td>\n",
       "      <td>1</td>\n",
       "      <td>-35.897345</td>\n",
       "      <td>-60.731609</td>\n",
       "    </tr>\n",
       "    <tr>\n",
       "      <th>3</th>\n",
       "      <td>Ernestina</td>\n",
       "      <td>0</td>\n",
       "      <td>0</td>\n",
       "      <td>-35.270234</td>\n",
       "      <td>-59.557503</td>\n",
       "    </tr>\n",
       "    <tr>\n",
       "      <th>4</th>\n",
       "      <td>Gobernador Ugarte</td>\n",
       "      <td>0</td>\n",
       "      <td>1</td>\n",
       "      <td>-35.164397</td>\n",
       "      <td>-60.081358</td>\n",
       "    </tr>\n",
       "    <tr>\n",
       "      <th>...</th>\n",
       "      <td>...</td>\n",
       "      <td>...</td>\n",
       "      <td>...</td>\n",
       "      <td>...</td>\n",
       "      <td>...</td>\n",
       "    </tr>\n",
       "    <tr>\n",
       "      <th>3167</th>\n",
       "      <td>Villa de Trancas</td>\n",
       "      <td>0</td>\n",
       "      <td>1</td>\n",
       "      <td>-26.230732</td>\n",
       "      <td>-65.285166</td>\n",
       "    </tr>\n",
       "    <tr>\n",
       "      <th>3168</th>\n",
       "      <td>Barrio San José III</td>\n",
       "      <td>0</td>\n",
       "      <td>1</td>\n",
       "      <td>-26.796443</td>\n",
       "      <td>-65.265716</td>\n",
       "    </tr>\n",
       "    <tr>\n",
       "      <th>3169</th>\n",
       "      <td>Cevil Redondo</td>\n",
       "      <td>0</td>\n",
       "      <td>1</td>\n",
       "      <td>-26.778964</td>\n",
       "      <td>-65.285321</td>\n",
       "    </tr>\n",
       "    <tr>\n",
       "      <th>3170</th>\n",
       "      <td>Villa Carmela</td>\n",
       "      <td>0</td>\n",
       "      <td>1</td>\n",
       "      <td>-26.767775</td>\n",
       "      <td>-65.270844</td>\n",
       "    </tr>\n",
       "    <tr>\n",
       "      <th>3171</th>\n",
       "      <td>Yerba Buena - Marcos Paz</td>\n",
       "      <td>0</td>\n",
       "      <td>1</td>\n",
       "      <td>-26.808845</td>\n",
       "      <td>-65.310699</td>\n",
       "    </tr>\n",
       "  </tbody>\n",
       "</table>\n",
       "<p>3172 rows × 5 columns</p>\n",
       "</div>"
      ],
      "text/plain": [
       "                     Localidad Fibraoptica Cuatrog    Latitud   Longitud\n",
       "0                   25 de Mayo           1       1 -35.433939 -60.173121\n",
       "1              Agustín Mosconi           0       0 -35.739217 -60.559063\n",
       "2                    Del Valle           1       1 -35.897345 -60.731609\n",
       "3                    Ernestina           0       0 -35.270234 -59.557503\n",
       "4            Gobernador Ugarte           0       1 -35.164397 -60.081358\n",
       "...                        ...         ...     ...        ...        ...\n",
       "3167          Villa de Trancas           0       1 -26.230732 -65.285166\n",
       "3168       Barrio San José III           0       1 -26.796443 -65.265716\n",
       "3169             Cevil Redondo           0       1 -26.778964 -65.285321\n",
       "3170             Villa Carmela           0       1 -26.767775 -65.270844\n",
       "3171  Yerba Buena - Marcos Paz           0       1 -26.808845 -65.310699\n",
       "\n",
       "[3172 rows x 5 columns]"
      ]
     },
     "execution_count": 17,
     "metadata": {},
     "output_type": "execute_result"
    }
   ],
   "source": [
    "### Columna Fibra óptica ###\n",
    "# Como el nombre de la columna Fibra óptica presenta problemas, la renombramos como Fibraoptica.\n",
    "cn.rename(columns={'Fibra óptica': 'Fibraoptica'}, inplace=True)\n",
    "# Reemplazo los string por números para contarlos como int().\n",
    "cn['Fibraoptica'] = cn['Fibraoptica'].replace('SI', '1')\n",
    "cn['Fibraoptica'] = cn['Fibraoptica'].replace('--', '0')\n",
    "\n",
    "# Como el nombre de la columna 4G presenta problemas, la renombramos como Cuatrog.\n",
    "cn.rename(columns={'4G': 'Cuatrog'}, inplace=True)\n",
    "# Reemplazo los string por números para contarlos como int().\n",
    "cn['Cuatrog'] = cn['Cuatrog'].replace('SI', '1')\n",
    "cn['Cuatrog'] = cn['Cuatrog'].replace('--', '0')\n",
    "local = cn\n",
    "local"
   ]
  },
  {
   "cell_type": "code",
   "execution_count": 12,
   "metadata": {},
   "outputs": [
    {
     "name": "stdout",
     "output_type": "stream",
     "text": [
      "Solamente 660 localidades tienen acceso a fibra óptica y 4G a la vez.\n"
     ]
    }
   ],
   "source": [
    "# Ordenamos las dos localidades que tiene fibra óptica y 4g\n",
    "ordenado = local.sort_values(by=['Fibraoptica', 'Cuatrog'], kind='heapsort', ascending=[False, False])\n",
    "# Contamos con head hastar dar con la cifra exacta de localidades con estas dos carácterísticas\n",
    "ordenado.head(660)\n",
    "ficu = ordenado.head(660)\n",
    "\n",
    "print(\"Solamente 660 localidades tienen acceso a fibra óptica y 4G a la vez.\")"
   ]
  },
  {
   "cell_type": "code",
   "execution_count": null,
   "metadata": {},
   "outputs": [],
   "source": []
  }
 ],
 "metadata": {
  "kernelspec": {
   "display_name": "Python 3",
   "language": "python",
   "name": "python3"
  },
  "language_info": {
   "codemirror_mode": {
    "name": "ipython",
    "version": 3
   },
   "file_extension": ".py",
   "mimetype": "text/x-python",
   "name": "python",
   "nbconvert_exporter": "python",
   "pygments_lexer": "ipython3",
   "version": "3.7.6"
  }
 },
 "nbformat": 4,
 "nbformat_minor": 4
}
